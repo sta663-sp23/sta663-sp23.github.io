{
 "cells": [
  {
   "cell_type": "markdown",
   "metadata": {},
   "source": [
    "---\n",
    "jupyter:\n",
    "  kernelspec:\n",
    "    display_name: Python 3.9.10 64-bit\n",
    "    language: python\n",
    "    name: python3\n",
    "---"
   ]
  },
  {
   "cell_type": "code",
   "execution_count": null,
   "metadata": {},
   "outputs": [],
   "source": [
    "import numpy as np\n",
    "import pandas as pd\n",
    "import seaborn as sns\n",
    "import pymc3 as pm\n",
    "import arviz as az\n",
    "import matplotlib.pyplot as plt\n",
    "import pyarrow as pa\n",
    "\n",
    "import os"
   ]
  },
  {
   "cell_type": "markdown",
   "metadata": {},
   "source": [
    "---\n",
    "\n",
    "## Taxi Data"
   ]
  },
  {
   "cell_type": "code",
   "execution_count": null,
   "metadata": {},
   "outputs": [],
   "source": [
    "import pyarrow.fs\n",
    "import pyarrow.dataset as ds\n",
    "#pyarrow.parquet.read_table(\"s3://ursa-labs-taxi-data/2019/06/data.parquet\")\n",
    "\n",
    "#s3, path = pyarrow.fs.S3FileSystem().from_uri(\"s3://ursa-labs-taxi-data/2019/\")\n",
    "#dataset = pyarrow.parquet.ParquetDataset(path, filesystem=s3)\n",
    "\n",
    "dataset = ds.dataset(\"s3://ursa-labs-taxi-data/2019/\")"
   ]
  },
  {
   "cell_type": "code",
   "execution_count": null,
   "metadata": {},
   "outputs": [],
   "source": [
    "dataset.schema"
   ]
  },
  {
   "cell_type": "code",
   "execution_count": null,
   "metadata": {},
   "outputs": [],
   "source": [
    "dataset.files"
   ]
  },
  {
   "cell_type": "code",
   "execution_count": null,
   "metadata": {},
   "outputs": [],
   "source": [
    "import pyarrow.compute as pc\n",
    "\n",
    "col_sum = 0\n",
    "count = 0\n",
    "\n",
    "for batch in dataset.to_batches(columns=[\"fare_amount\"]):\n",
    "    col_sum += pc.sum(batch.column(\"fare_amount\")).as_py()\n",
    "    count += batch.num_rows\n",
    "\n",
    "col_sum / count"
   ]
  },
  {
   "cell_type": "code",
   "execution_count": null,
   "metadata": {},
   "outputs": [],
   "source": [
    "dataset_local = ds.dataset(\"/Users/rundel/Scratch/nyc_taxi/\",  partitioning=[\"year\", \"month\"])\n",
    "dataset_local.files"
   ]
  },
  {
   "cell_type": "code",
   "execution_count": null,
   "metadata": {},
   "outputs": [],
   "source": [
    "dataset_local.schema"
   ]
  },
  {
   "cell_type": "code",
   "execution_count": null,
   "metadata": {},
   "outputs": [],
   "source": [
    "col_sum = 0\n",
    "count = 0\n",
    "\n",
    "for batch in dataset_local.to_batches(columns=[\"fare_amount\"]):\n",
    "    col_sum += pc.sum(batch.column(\"fare_amount\")).as_py()\n",
    "    count += batch.num_rows\n",
    "\n",
    "col_sum / count"
   ]
  },
  {
   "cell_type": "code",
   "execution_count": null,
   "metadata": {},
   "outputs": [],
   "source": [
    "dataset_local.to_table(filter = ds.field(\"fare_amount\") > 100).to_pandas()"
   ]
  },
  {
   "cell_type": "code",
   "execution_count": null,
   "metadata": {},
   "outputs": [],
   "source": [
    "dataset_local.to_table().to_pandas()"
   ]
  },
  {
   "cell_type": "code",
   "execution_count": null,
   "metadata": {},
   "outputs": [],
   "source": []
  }
 ],
 "metadata": {
  "interpreter": {
   "hash": "b0fa6594d8f4cbf19f97940f81e996739fb7646882a419484c72d19e05852a7e"
  },
  "kernelspec": {
   "display_name": "Python 3.9.10 64-bit",
   "language": "python",
   "name": "python3"
  },
  "language_info": {
   "codemirror_mode": {
    "name": "ipython",
    "version": 3
   },
   "file_extension": ".py",
   "mimetype": "text/x-python",
   "name": "python",
   "nbconvert_exporter": "python",
   "pygments_lexer": "ipython3",
   "version": "3.9.10"
  },
  "orig_nbformat": 4
 },
 "nbformat": 4,
 "nbformat_minor": 2
}
