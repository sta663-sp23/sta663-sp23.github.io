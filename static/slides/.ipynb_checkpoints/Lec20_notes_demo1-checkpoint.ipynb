{
 "cells": [
  {
   "cell_type": "code",
   "execution_count": null,
   "metadata": {},
   "outputs": [],
   "source": [
    "import numpy as np\n",
    "import pandas as pd\n",
    "import seaborn as sns\n",
    "import pymc3 as pm\n",
    "import arviz as az\n",
    "import matplotlib.pyplot as plt"
   ]
  },
  {
   "cell_type": "markdown",
   "metadata": {},
   "source": [
    "# Demo 1 - Bayesian Lasso"
   ]
  },
  {
   "cell_type": "code",
   "execution_count": null,
   "metadata": {},
   "outputs": [],
   "source": [
    "n = 50\n",
    "k = 100\n",
    "\n",
    "np.random.seed(1234)\n",
    "X = np.random.normal(size=(n, k))\n",
    "\n",
    "beta = np.zeros(shape=k)\n",
    "beta[[10,30,50,70]] =  10\n",
    "beta[[20,40,60,80]] = -10\n",
    "\n",
    "y = X @ beta + np.random.normal(size=n)"
   ]
  },
  {
   "cell_type": "markdown",
   "metadata": {},
   "source": [
    "## Naive Model"
   ]
  },
  {
   "cell_type": "code",
   "execution_count": null,
   "metadata": {},
   "outputs": [],
   "source": [
    "with pm.Model() as bayes_lasso:\n",
    "  b = pm.Laplace(\"beta\", 0, 1, shape=k)#lam*tau, shape=k)\n",
    "  y_est = X @ b\n",
    "\n",
    "  s = pm.HalfNormal('sigma', sd=1)\n",
    "\n",
    "  likelihood = pm.Normal(\"y\", mu=y_est, sigma=s, observed=y)\n",
    "\n",
    "with bayes_lasso:\n",
    "  trace = pm.sample(return_inferencedata=True, random_seed=1234)"
   ]
  },
  {
   "cell_type": "code",
   "execution_count": null,
   "metadata": {},
   "outputs": [],
   "source": [
    "az.summary(trace)"
   ]
  },
  {
   "cell_type": "code",
   "execution_count": null,
   "metadata": {},
   "outputs": [],
   "source": [
    "az.summary(trace).iloc[[0,10,20,30,40,50,60,70,80,100]]"
   ]
  },
  {
   "cell_type": "code",
   "execution_count": null,
   "metadata": {},
   "outputs": [],
   "source": [
    "ax = az.plot_forest(trace)\n",
    "plt.tight_layout()\n",
    "plt.show()"
   ]
  },
  {
   "cell_type": "markdown",
   "metadata": {},
   "source": [
    "#### Plot helper"
   ]
  },
  {
   "cell_type": "code",
   "execution_count": null,
   "metadata": {},
   "outputs": [],
   "source": [
    "def plot_slope(trace, prior=\"beta\", chain=0):\n",
    "  post = (trace.posterior[prior]\n",
    "          .to_dataframe()\n",
    "          .reset_index()\n",
    "          .query(\"chain == 0\")\n",
    "  )\n",
    "\n",
    "  sns.catplot(x=\"beta_dim_0\", y=\"beta\", data=post, kind=\"boxen\", linewidth=0, color='blue', aspect=2, showfliers=False)\n",
    "  plt.tight_layout()\n",
    "  plt.show()"
   ]
  },
  {
   "cell_type": "code",
   "execution_count": null,
   "metadata": {},
   "outputs": [],
   "source": [
    "plot_slope(trace)"
   ]
  },
  {
   "cell_type": "markdown",
   "metadata": {},
   "source": [
    "## Weakly Informative Prior\n"
   ]
  },
  {
   "cell_type": "code",
   "execution_count": null,
   "metadata": {},
   "outputs": [],
   "source": [
    "with pm.Model() as bayes_weak:\n",
    "  b = pm.Normal(\"beta\", 0, 10, shape=k)\n",
    "  y_est = X @ b\n",
    "\n",
    "  s = pm.HalfNormal('sigma', sd=2)\n",
    "\n",
    "  likelihood = pm.Normal(\"y\", mu=y_est, sigma=s, observed=y)\n",
    "\n",
    "with bayes_weak:\n",
    "  trace = pm.sample(return_inferencedata=True, random_seed=12345)"
   ]
  },
  {
   "cell_type": "code",
   "execution_count": null,
   "metadata": {},
   "outputs": [],
   "source": [
    "plot_slope(trace)"
   ]
  }
 ],
 "metadata": {
  "interpreter": {
   "hash": "b0fa6594d8f4cbf19f97940f81e996739fb7646882a419484c72d19e05852a7e"
  },
  "kernelspec": {
   "display_name": "Python 3 (ipykernel)",
   "language": "python",
   "name": "python3"
  },
  "language_info": {
   "codemirror_mode": {
    "name": "ipython",
    "version": 3
   },
   "file_extension": ".py",
   "mimetype": "text/x-python",
   "name": "python",
   "nbconvert_exporter": "python",
   "pygments_lexer": "ipython3",
   "version": "3.9.10"
  }
 },
 "nbformat": 4,
 "nbformat_minor": 4
}
