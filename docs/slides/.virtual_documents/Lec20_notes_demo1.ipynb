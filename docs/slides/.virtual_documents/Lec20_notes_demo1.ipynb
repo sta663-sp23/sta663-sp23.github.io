import numpy as np
import pandas as pd
import seaborn as sns
import pymc3 as pm
import arviz as az
import matplotlib.pyplot as plt


n = 50
k = 100

np.random.seed(1234)
X = np.random.normal(size=(n, k))

beta = np.zeros(shape=k)
beta[[10,30,50,70]] =  10
beta[[20,40,60,80]] = -10

y = X @ beta + np.random.normal(size=n)


with pm.Model() as bayes_lasso:
  b = pm.Laplace("beta", 0, 1, shape=k)#lam*tau, shape=k)
  y_est = X @ b

  s = pm.HalfNormal('sigma', sd=1)

  likelihood = pm.Normal("y", mu=y_est, sigma=s, observed=y)

with bayes_lasso:
  trace = pm.sample(return_inferencedata=True, random_seed=1234)


az.summary(trace)


az.summary(trace).iloc[[0,10,20,30,40,50,60,70,80,100]]


ax = az.plot_forest(trace)
plt.tight_layout()
plt.show()


def plot_slope(trace, prior="beta", chain=0):
  post = (trace.posterior[prior]
          .to_dataframe()
          .reset_index()
          .query("chain == 0")
  )

  sns.catplot(x="beta_dim_0", y="beta", data=post, kind="boxen", linewidth=0, color='blue', aspect=2, showfliers=False)
  plt.tight_layout()
  plt.show()


plot_slope(trace)


with pm.Model() as bayes_weak:
  b = pm.Normal("beta", 0, 10, shape=k)
  y_est = X @ b

  s = pm.HalfNormal('sigma', sd=2)

  likelihood = pm.Normal("y", mu=y_est, sigma=s, observed=y)

with bayes_weak:
  trace = pm.sample(return_inferencedata=True, random_seed=12345)


plot_slope(trace)
