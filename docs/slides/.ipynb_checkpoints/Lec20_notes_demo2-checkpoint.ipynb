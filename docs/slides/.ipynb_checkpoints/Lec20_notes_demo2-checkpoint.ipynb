{
 "cells": [
  {
   "cell_type": "code",
   "execution_count": null,
   "metadata": {},
   "outputs": [],
   "source": [
    "import numpy as np\n",
    "import pandas as pd\n",
    "import seaborn as sns\n",
    "import pymc3 as pm\n",
    "import arviz as az\n",
    "import matplotlib.pyplot as plt"
   ]
  },
  {
   "cell_type": "markdown",
   "metadata": {},
   "source": [
    "# Demo 2 - GP"
   ]
  },
  {
   "cell_type": "code",
   "execution_count": null,
   "metadata": {},
   "outputs": [],
   "source": [
    "np.random.seed(12345)\n",
    "\n",
    "n = 50\n",
    "x = np.linspace(0, 1, n)\n",
    "X = x.reshape(-1,1)\n",
    "\n",
    "nugget = 0.75\n",
    "sigma2_true = 4.0\n",
    "l_true = 10\n",
    "\n",
    "cov_func = sigma2_true * pm.gp.cov.ExpQuad(1, 1/l_true)\n",
    "mean_func = pm.gp.mean.Zero()\n",
    "\n",
    "y_true = np.random.multivariate_normal(\n",
    "    mean_func(X).eval(), cov_func(X).eval(), 1\n",
    ").flatten()\n",
    "\n",
    "y = y_true + nugget * np.random.randn(n)"
   ]
  },
  {
   "cell_type": "code",
   "execution_count": null,
   "metadata": {},
   "outputs": [],
   "source": [
    "fig = plt.figure(figsize=(12, 5))\n",
    "plt.plot(X, y_true, \"-b\", lw=3)\n",
    "plt.plot(X, y, \"ok\", \".\")\n",
    "plt.show()"
   ]
  },
  {
   "cell_type": "code",
   "execution_count": null,
   "metadata": {},
   "outputs": [],
   "source": [
    "D = np.array([ np.abs(xi - x) for xi in x])\n",
    "D0 = (D == 0).astype(\"double\")\n",
    "\n",
    "with pm.Model() as gp:\n",
    "  nugget = pm.HalfCauchy(\"nugget\", beta=5)\n",
    "  sigma2 = pm.HalfCauchy(\"sigma2\", beta=5)\n",
    "  l      = pm.HalfCauchy(\"l\",      beta=5)\n",
    "\n",
    "  Sigma = D0 * nugget + sigma2 * np.exp(-0.5 * D**2 * l**2)\n",
    "  \n",
    "  y_ = pm.MvNormal(\"y\", mu=np.zeros(n), cov=Sigma, observed=y)\n"
   ]
  },
  {
   "cell_type": "code",
   "execution_count": null,
   "metadata": {},
   "outputs": [],
   "source": [
    "with gp:\n",
    "    #step = pm.Slice([nugget, sigma2, l])\n",
    "    step = pm.NUTS([nugget, sigma2, l])\n",
    "    trace = pm.sample(\n",
    "        return_inferencedata = True,\n",
    "        chains = 2,\n",
    "        step = step\n",
    "    )"
   ]
  },
  {
   "cell_type": "code",
   "execution_count": null,
   "metadata": {},
   "outputs": [],
   "source": [
    "ax = az.plot_trace(trace)\n",
    "plt.tight_layout()"
   ]
  },
  {
   "cell_type": "code",
   "execution_count": null,
   "metadata": {},
   "outputs": [],
   "source": [
    "az.summary(trace)"
   ]
  },
  {
   "cell_type": "code",
   "execution_count": null,
   "metadata": {},
   "outputs": [],
   "source": [
    "ax = az.plot_posterior(trace, ref_val=[0.75, 4, 10])"
   ]
  },
  {
   "cell_type": "markdown",
   "metadata": {},
   "source": [
    "---\n",
    "\n",
    "## Marginal GP tools"
   ]
  },
  {
   "cell_type": "code",
   "execution_count": null,
   "metadata": {},
   "outputs": [],
   "source": [
    "with pm.Model() as gp_marginal:\n",
    "  nugget = pm.HalfCauchy(\"nugget\", beta=5)\n",
    "  sigma2 = pm.HalfCauchy(\"sigma2\", beta=5)\n",
    "  l      = pm.HalfCauchy(\"l\",      beta=5)\n",
    "\n",
    "  cov = sigma2 * pm.gp.cov.ExpQuad(input_dim=1, ls=1/l)\n",
    "  gp = pm.gp.Marginal(cov_func=cov)\n",
    "\n",
    "  y_ = gp.marginal_likelihood(\"y\", X=X, y=y, noise=nugget)"
   ]
  },
  {
   "cell_type": "code",
   "execution_count": null,
   "metadata": {},
   "outputs": [],
   "source": [
    "with gp_marginal:\n",
    "    step = pm.NUTS([nugget, sigma2, l])\n",
    "    #step = pm.Slice([nugget, sigma2])\n",
    "    trace = pm.sample(\n",
    "        return_inferencedata = True,\n",
    "        chains = 2,\n",
    "        step = step\n",
    "    )"
   ]
  },
  {
   "cell_type": "code",
   "execution_count": null,
   "metadata": {},
   "outputs": [],
   "source": [
    "with gp_marginal:\n",
    "    mp = pm.find_MAP(vars=[nugget,sigma2,l])"
   ]
  },
  {
   "cell_type": "code",
   "execution_count": null,
   "metadata": {},
   "outputs": [],
   "source": [
    "az.plot_trace(trace)\n",
    "plt.tight_layout()"
   ]
  },
  {
   "cell_type": "code",
   "execution_count": null,
   "metadata": {},
   "outputs": [],
   "source": [
    "X_pred = np.linspace(0, 1, 1000)[:, None]"
   ]
  },
  {
   "cell_type": "code",
   "execution_count": null,
   "metadata": {},
   "outputs": [],
   "source": [
    "with gp_marginal:\n",
    "    mp = pm.find_MAP(vars=[nugget,sigma2,l])\n",
    "\n",
    "with gp_marginal:\n",
    "    y_pred = gp.conditional(\"y_pred\", X_pred)\n",
    "\n",
    "with gp_marginal:\n",
    "    pp = pm.sample_posterior_predictive([mp], var_names=[\"y_pred\"], samples=500)"
   ]
  },
  {
   "cell_type": "code",
   "execution_count": null,
   "metadata": {},
   "outputs": [],
   "source": [
    "plt.figure(figsize=(12,6))\n",
    "plt.plot(x,y,\".r\")\n",
    "lines = plt.plot(X_pred, pp[\"y_pred\"].T, '-b', alpha=0.01)"
   ]
  },
  {
   "cell_type": "markdown",
   "metadata": {},
   "source": []
  },
  {
   "cell_type": "code",
   "execution_count": null,
   "metadata": {},
   "outputs": [],
   "source": [
    "with gp_marginal:\n",
    "    pp = pm.sample_posterior_predictive([trace], var_names=[\"y_pred\"], samples=500)\n",
    "\n",
    "plt.figure(figsize=(12,6))\n",
    "plt.plot(x,y,\".r\")\n",
    "lines = plt.plot(X_pred, pp[\"y_pred\"].T, '-b', alpha=0.01)"
   ]
  },
  {
   "cell_type": "code",
   "execution_count": null,
   "metadata": {},
   "outputs": [],
   "source": [
    "res = []\n",
    "for i in range(500):\n",
    "    test  = {\n",
    "        'nugget': trace.posterior[\"nugget\"].values[0,i],\n",
    "        'sigma2': trace.posterior[\"sigma2\"].values[0,i],\n",
    "        'l':      trace.posterior[\"l\"].values[0,i]\n",
    "    }\n",
    "    with gp_marginal:\n",
    "        pp = pm.sample_posterior_predictive([test], var_names=[\"y_pred\"], samples=1, progressbar=False)\n",
    "    \n",
    "    res.append(pp[\"y_pred\"])\n",
    "\n",
    "res = np.array(res).reshape(500,-1)\n"
   ]
  },
  {
   "cell_type": "code",
   "execution_count": null,
   "metadata": {},
   "outputs": [],
   "source": [
    "\n",
    "plt.figure(figsize=(12,6))\n",
    "plt.plot(x,y,\".r\")\n",
    "lines = plt.plot(X_pred, res.T, '-b', alpha=0.01)"
   ]
  }
 ],
 "metadata": {
  "interpreter": {
   "hash": "b0fa6594d8f4cbf19f97940f81e996739fb7646882a419484c72d19e05852a7e"
  },
  "kernelspec": {
   "display_name": "Python 3 (ipykernel)",
   "language": "python",
   "name": "python3"
  },
  "language_info": {
   "codemirror_mode": {
    "name": "ipython",
    "version": 3
   },
   "file_extension": ".py",
   "mimetype": "text/x-python",
   "name": "python",
   "nbconvert_exporter": "python",
   "pygments_lexer": "ipython3",
   "version": "3.9.10"
  }
 },
 "nbformat": 4,
 "nbformat_minor": 4
}
